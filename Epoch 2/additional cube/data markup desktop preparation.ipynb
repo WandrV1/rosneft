{
 "cells": [
  {
   "cell_type": "code",
   "execution_count": 2,
   "metadata": {
    "pycharm": {
     "name": "#%%\n"
    },
    "tags": []
   },
   "outputs": [],
   "source": [
    "import numpy as np\n",
    "from PIL import Image, ImageOps\n",
    "\n",
    "import os\n",
    "import json\n",
    "import math\n",
    "import matplotlib.pyplot as plt\n",
    "import matplotlib\n",
    "matplotlib.rcParams['figure.figsize'] = (20, 20)"
   ]
  },
  {
   "cell_type": "code",
   "execution_count": 3,
   "metadata": {
    "collapsed": false,
    "jupyter": {
     "outputs_hidden": false
    },
    "pycharm": {
     "name": "#%%\n"
    }
   },
   "outputs": [
    {
     "name": "stdout",
     "output_type": "stream",
     "text": [
      "['inline_data.npz', 'inline_faults_thick_7.npz']\n"
     ]
    }
   ],
   "source": [
    "DIVISOR = 32\n",
    "RAW_PATH = os.path.join('data', 'raw', 'numpy')\n",
    "SAVE_PATH = os.path.join('data', 'complete')\n",
    "\n",
    "raw_files = [['inline_data.npz', 'inline_faults_thick_7.npz']]\n",
    "\n",
    "fault_path = os.path.join(SAVE_PATH, 'fault')\n",
    "seis_path = os.path.join(SAVE_PATH, 'seis')\n",
    "img_cnt = 0\n",
    "metadata = []\n",
    "for data_names in raw_files:\n",
    "    print(data_names)\n",
    "    data = np.load(os.path.join(RAW_PATH, data_names[0]))['arr_0']\n",
    "    min_data_value = np.min(data)\n",
    "    max_data_value = np.max(data)\n",
    "    data = (data - min_data_value) / (max_data_value - min_data_value) * 255\n",
    "\n",
    "    labels = np.load(os.path.join(RAW_PATH, data_names[1]))['arr_0']\n",
    "    assert data.shape == labels.shape\n",
    "\n",
    "    for iline_num in range(np.shape(data)[0]):\n",
    "        data_slice = data[iline_num]\n",
    "        labels_slice = labels[iline_num]\n",
    "\n",
    "        timelines, jlines,  = np.shape(data_slice)\n",
    "        data_slice, data_padding = pad_data(data_slice, DIVISOR)\n",
    "        labels_slice, labels_padding = pad_data(labels_slice, DIVISOR)\n",
    "        labels_slice = labels_slice * 255\n",
    "\n",
    "        data_img = ImageOps.grayscale(Image.fromarray(data_slice))\n",
    "        label_img = ImageOps.grayscale(Image.fromarray(labels_slice))\n",
    "        metadata.append({\n",
    "                'data': f'{img_cnt}.png',\n",
    "                'label': f'{img_cnt}.png',\n",
    "                'padding': data_padding\n",
    "            })\n",
    "        data_img.save(os.path.join(seis_path, f'{img_cnt}.png'))\n",
    "        label_img.save(os.path.join(fault_path, f'{img_cnt}.png'))\n",
    "        img_cnt += 1\n",
    "with open(os.path.join(SAVE_PATH, 'metadata.json'), 'w') as file:\n",
    "    json.dump(metadata, file)"
   ]
  },
  {
   "cell_type": "code",
   "execution_count": 17,
   "outputs": [],
   "source": [
    "data = np.load(os.path.join('data', 'raw', 'numpy', 'inline_faults_thick_7.npz'))['arr_0']"
   ],
   "metadata": {
    "collapsed": false,
    "pycharm": {
     "name": "#%%\n"
    }
   }
  },
  {
   "cell_type": "code",
   "execution_count": 18,
   "outputs": [],
   "source": [
    "markup = {\n",
    "    'train': [],\n",
    "    'test': []\n",
    "}\n",
    "index_shift = 312 # Первый инлайн в исходном segy имеет индекс 312\n",
    "train_slices = np.linspace(10, np.shape(data)[0], 12, endpoint=False, dtype='int')\n",
    "test_slices = [50, 200, 370, 520]\n",
    "for stage in ['train', 'test']:\n",
    "    slices = train_slices if stage == 'train' else test_slices\n",
    "    for slice_num in slices:\n",
    "        data_slice = data[slice_num]\n",
    "        data_slice = data_slice.tolist()\n",
    "        markup[stage].append({'direction': 'iline', 'slice_num': int(slice_num + index_shift), 'slice': data_slice})\n",
    "with open('markup.sflt', 'w') as file:\n",
    "    json.dump(markup, file)"
   ],
   "metadata": {
    "collapsed": false,
    "pycharm": {
     "name": "#%%\n"
    }
   }
  }
 ],
 "metadata": {
  "kernelspec": {
   "display_name": "Python 3 (ipykernel)",
   "language": "python",
   "name": "python3"
  },
  "language_info": {
   "codemirror_mode": {
    "name": "ipython",
    "version": 3
   },
   "file_extension": ".py",
   "mimetype": "text/x-python",
   "name": "python",
   "nbconvert_exporter": "python",
   "pygments_lexer": "ipython3",
   "version": "3.9.13"
  }
 },
 "nbformat": 4,
 "nbformat_minor": 4
}
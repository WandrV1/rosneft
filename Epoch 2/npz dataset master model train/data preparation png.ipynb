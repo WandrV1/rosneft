{
 "cells": [
  {
   "cell_type": "code",
   "execution_count": 1,
   "metadata": {
    "pycharm": {
     "name": "#%%\n"
    },
    "tags": []
   },
   "outputs": [],
   "source": [
    "import numpy as np\n",
    "from PIL import Image, ImageOps\n",
    "\n",
    "import random\n",
    "import os\n",
    "import json"
   ]
  },
  {
   "cell_type": "code",
   "execution_count": 2,
   "metadata": {
    "collapsed": false,
    "jupyter": {
     "outputs_hidden": false
    },
    "pycharm": {
     "name": "#%%\n"
    }
   },
   "outputs": [
    {
     "name": "stdout",
     "output_type": "stream",
     "text": [
      "['seistrain1.npz', 'faulttrain1.npz']\n",
      "['seistrain2.npz', 'faulttrain2.npz']\n",
      "['seistrain3.npz', 'faulttrain3.npz']\n",
      "['seistrain4.npz', 'faulttrain4.npz']\n",
      "['seistrain5.npz', 'faulttrain5.npz']\n",
      "['seistrain6.npz', 'faulttrain6.npz']\n",
      "['seistrain7.npz', 'faulttrain7.npz']\n",
      "['seistrain8.npz', 'faulttrain8.npz']\n",
      "['seistrain9.npz', 'faulttrain9.npz']\n",
      "['seisval1.npz', 'faultval1.npz']\n"
     ]
    }
   ],
   "source": [
    "WINDOW_SIZE = 512\n",
    "WINDOW_THRESHOLD = 2000\n",
    "WINDOWS_PER_SLICE = 4\n",
    "RAW_PATH = os.path.join('..', '2d unet full data', 'data', 'raw')\n",
    "SAVE_PATH = os.path.join('data_png', '512window')\n",
    "\n",
    "files_for_stages = {\n",
    "    'train': [['seistrain1.npz', 'faulttrain1.npz'],\n",
    "              ['seistrain2.npz', 'faulttrain2.npz'],\n",
    "              ['seistrain3.npz', 'faulttrain3.npz'],\n",
    "              ['seistrain4.npz', 'faulttrain4.npz'],\n",
    "              ['seistrain5.npz', 'faulttrain5.npz'],\n",
    "              ['seistrain6.npz', 'faulttrain6.npz'],\n",
    "              ['seistrain7.npz', 'faulttrain7.npz'],\n",
    "              ['seistrain8.npz', 'faulttrain8.npz'],\n",
    "              ['seistrain9.npz', 'faulttrain9.npz']],\n",
    "    'eval': [['seisval1.npz', 'faultval1.npz']]\n",
    "}\n",
    "\n",
    "for stage in ('train', 'eval'):\n",
    "    fault_path = os.path.join(SAVE_PATH, stage, 'fault')\n",
    "    seis_path = os.path.join(SAVE_PATH, stage, 'seis')\n",
    "    img_cnt = 0\n",
    "    metadata = []\n",
    "    for data_names in files_for_stages[stage]:\n",
    "        print(data_names)\n",
    "        data = np.load(os.path.join(RAW_PATH, data_names[0]))['arr_0'].T\n",
    "        min_data_value = np.min(data)\n",
    "        max_data_value = np.max(data)\n",
    "        data = (data - min_data_value) / (max_data_value - min_data_value) * 255\n",
    "\n",
    "        labels = np.load(os.path.join(RAW_PATH, data_names[1]))['arr_0'].T\n",
    "        assert data.shape == labels.shape\n",
    "\n",
    "        for horizon_num in range(data.shape[2]):\n",
    "            data_slice = data[:,:,horizon_num]\n",
    "            labels_slice = labels[:,:,horizon_num]\n",
    "            timelines, xlines,  = np.shape(data_slice)\n",
    "            for window_num in range(WINDOWS_PER_SLICE):\n",
    "                while True:\n",
    "                    random_xline = random.randint(0, xlines - WINDOW_SIZE)\n",
    "                    random_timeline = random.randint(0, timelines - WINDOW_SIZE)\n",
    "                    random_labels_window = labels_slice[random_timeline:random_timeline+WINDOW_SIZE, random_xline:random_xline+WINDOW_SIZE]\n",
    "                    if np.sum(random_labels_window) > WINDOW_THRESHOLD:\n",
    "                        break\n",
    "                random_data_window = data_slice[random_timeline:random_timeline+WINDOW_SIZE, random_xline:random_xline+WINDOW_SIZE]\n",
    "                metadata.append({\n",
    "                    'data': f'{img_cnt}.png',\n",
    "                    'label': f'{img_cnt}.png'\n",
    "                })\n",
    "                data_img = ImageOps.grayscale(Image.fromarray(random_data_window))\n",
    "                label_img = ImageOps.grayscale(Image.fromarray(random_labels_window * 255))\n",
    "                data_img.save(os.path.join(seis_path, f'{img_cnt}.png'))\n",
    "                label_img.save(os.path.join(fault_path, f'{img_cnt}.png'))\n",
    "                img_cnt += 1\n",
    "    with open(os.path.join(SAVE_PATH, stage, 'metadata.json'), 'w') as file:\n",
    "        json.dump(metadata, file)"
   ]
  },
  {
   "cell_type": "code",
   "execution_count": 17,
   "metadata": {},
   "outputs": [],
   "source": [
    "import cv2"
   ]
  },
  {
   "cell_type": "code",
   "execution_count": 18,
   "metadata": {
    "collapsed": false,
    "jupyter": {
     "outputs_hidden": false
    },
    "pycharm": {
     "name": "#%%\n"
    }
   },
   "outputs": [
    {
     "name": "stdout",
     "output_type": "stream",
     "text": [
      "(1, 512, 512)\n",
      "(1, 512, 512)\n",
      "(1, 512, 512)\n",
      "(1, 512, 512)\n"
     ]
    }
   ],
   "source": [
    "faults_image = np.expand_dims(cv2.imread('data_png/512window/train/fault/38.png', cv2.IMREAD_GRAYSCALE), axis=0)\n",
    "seis_image = np.expand_dims(cv2.imread('data_png/512window/train/seis/38.png', cv2.IMREAD_GRAYSCALE), axis=0)\n",
    "print(np.shape(faults_image))\n",
    "print(np.shape(seis_image))\n",
    "faults_image = np.expand_dims(cv2.imread('data/512window/train/fault/38.jpeg', cv2.IMREAD_GRAYSCALE), axis=0)\n",
    "seis_image = np.expand_dims(cv2.imread('data/512window/train/seis/38.jpeg', cv2.IMREAD_GRAYSCALE), axis=0)\n",
    "print(np.shape(faults_image))\n",
    "print(np.shape(seis_image))"
   ]
  },
  {
   "cell_type": "code",
   "execution_count": null,
   "metadata": {},
   "outputs": [],
   "source": []
  }
 ],
 "metadata": {
  "kernelspec": {
   "display_name": "Python 3 (ipykernel)",
   "language": "python",
   "name": "python3"
  },
  "language_info": {
   "codemirror_mode": {
    "name": "ipython",
    "version": 3
   },
   "file_extension": ".py",
   "mimetype": "text/x-python",
   "name": "python",
   "nbconvert_exporter": "python",
   "pygments_lexer": "ipython3",
   "version": "3.9.13"
  }
 },
 "nbformat": 4,
 "nbformat_minor": 4
}

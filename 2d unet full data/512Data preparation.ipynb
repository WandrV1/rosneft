{
 "cells": [
  {
   "cell_type": "code",
   "execution_count": 1,
   "metadata": {
    "collapsed": true,
    "pycharm": {
     "name": "#%%\n"
    }
   },
   "outputs": [],
   "source": [
    "import numpy as np\n",
    "import matplotlib.pyplot as plt\n",
    "import matplotlib\n",
    "from PIL import Image, ImageOps\n",
    "\n",
    "import random\n",
    "import os\n",
    "import json\n",
    "\n",
    "matplotlib.rcParams['figure.figsize'] = (11.75, 8.5)"
   ]
  },
  {
   "cell_type": "code",
   "execution_count": 2,
   "outputs": [],
   "source": [
    "def pad_data(data, divisor=16):\n",
    "    shape_y, shape_x = data.shape\n",
    "    padding = [None, None]\n",
    "    if shape_x % divisor != 0:\n",
    "        for i in range(divisor):\n",
    "            if data.shape[1] % divisor == 0:\n",
    "                break\n",
    "            data = np.c_[data,np.zeros(data.shape[0])]\n",
    "        padding[0] = -i\n",
    "    if shape_y % divisor != 0:\n",
    "        for i in range(divisor):\n",
    "            if data.shape[0] % divisor == 0:\n",
    "                break\n",
    "            data = np.r_[data,[np.zeros(data.shape[1])]]\n",
    "        padding[1] = -i\n",
    "    return data, padding"
   ],
   "metadata": {
    "collapsed": false,
    "pycharm": {
     "name": "#%%\n"
    }
   }
  },
  {
   "cell_type": "code",
   "execution_count": 4,
   "outputs": [
    {
     "name": "stdout",
     "output_type": "stream",
     "text": [
      "['seistrain1.npz', 'faulttrain1.npz']\n",
      "['seistrain2.npz', 'faulttrain2.npz']\n",
      "['seistrain3.npz', 'faulttrain3.npz']\n",
      "['seistrain4.npz', 'faulttrain4.npz']\n",
      "['seistrain5.npz', 'faulttrain5.npz']\n",
      "['seistrain6.npz', 'faulttrain6.npz']\n",
      "['seistrain7.npz', 'faulttrain7.npz']\n",
      "['seistrain8.npz', 'faulttrain8.npz']\n",
      "['seistrain9.npz', 'faulttrain9.npz']\n",
      "['seisval1.npz', 'faultval1.npz']\n",
      "['seistest1.npz', 'faulttest1.npz']\n"
     ]
    }
   ],
   "source": [
    "DIVISOR = 16\n",
    "WINDOW_SIZE = 512\n",
    "WINDOW_THRESHOLD = 2000\n",
    "WINDOWS_PER_SLICE = 5\n",
    "RAW_PATH = os.path.join('data', 'raw')\n",
    "\n",
    "files_for_stages = {\n",
    "    'train': [['seistrain1.npz', 'faulttrain1.npz'],\n",
    "              ['seistrain2.npz', 'faulttrain2.npz'],\n",
    "              ['seistrain3.npz', 'faulttrain3.npz'],\n",
    "              ['seistrain4.npz', 'faulttrain4.npz'],\n",
    "              ['seistrain5.npz', 'faulttrain5.npz'],\n",
    "              ['seistrain6.npz', 'faulttrain6.npz'],\n",
    "              ['seistrain7.npz', 'faulttrain7.npz'],\n",
    "              ['seistrain8.npz', 'faulttrain8.npz'],\n",
    "              ['seistrain9.npz', 'faulttrain9.npz']],\n",
    "    'eval': [['seisval1.npz', 'faultval1.npz']],\n",
    "    'val': [['seistest1.npz', 'faulttest1.npz']]\n",
    "}\n",
    "\n",
    "for stage in ('train', 'eval', 'val'):\n",
    "    fault_path = os.path.join('data', stage, 'fault')\n",
    "    seis_path = os.path.join('data', stage, 'seis')\n",
    "    img_cnt = 0\n",
    "    metadata = []\n",
    "    for data_names in files_for_stages[stage]:\n",
    "        print(data_names)\n",
    "        data = np.load(os.path.join(RAW_PATH, data_names[0]))['arr_0'].T\n",
    "        min_data_value = np.min(data)\n",
    "        max_data_value = np.max(data)\n",
    "        data = (data - min_data_value) / (max_data_value - min_data_value) * 255\n",
    "\n",
    "        labels = np.load(os.path.join(RAW_PATH, data_names[1]))['arr_0'].T\n",
    "        assert data.shape == labels.shape\n",
    "\n",
    "        for horizon_num in range(data.shape[2]):\n",
    "            data_slice = data[:,:,horizon_num]\n",
    "            labels_slice = labels[:,:,horizon_num]\n",
    "\n",
    "            timelines, xlines,  = np.shape(data_slice)\n",
    "            # print(np.shape(data_slice))\n",
    "            # break\n",
    "            for window_num in range(WINDOWS_PER_SLICE):\n",
    "                while True:\n",
    "                    random_xline = random.randint(0, xlines - WINDOW_SIZE)\n",
    "                    random_timeline = random.randint(0, timelines - WINDOW_SIZE)\n",
    "                    random_labels_window = labels_slice[random_timeline:random_timeline+WINDOW_SIZE, random_xline:random_xline+WINDOW_SIZE]\n",
    "                    if np.sum(random_labels_window) > WINDOW_THRESHOLD:\n",
    "                        break\n",
    "                random_data_window = data_slice[random_timeline:random_timeline+WINDOW_SIZE, random_xline:random_xline+WINDOW_SIZE]\n",
    "\n",
    "            # data_slice, data_padding = pad_data(data_slice, DIVISOR)\n",
    "            # labels_slice, labels_padding = pad_data(labels_slice, DIVISOR)\n",
    "            # labels_slice = labels_slice * 255\n",
    "\n",
    "                data_img = ImageOps.grayscale(Image.fromarray(random_data_window))\n",
    "                label_img = ImageOps.grayscale(Image.fromarray(random_labels_window * 255))\n",
    "                metadata.append({\n",
    "                    'data': f'{img_cnt}.jpeg',\n",
    "                    'label': f'{img_cnt}.jpeg'\n",
    "                })\n",
    "                data_img.save(os.path.join(seis_path, f'{img_cnt}.jpeg'))\n",
    "                label_img.save(os.path.join(fault_path, f'{img_cnt}.jpeg'))\n",
    "                img_cnt += 1\n",
    "    with open(os.path.join('data', stage, 'metadata.json'), 'w') as file:\n",
    "        json.dump(metadata, file)"
   ],
   "metadata": {
    "collapsed": false,
    "pycharm": {
     "name": "#%%\n"
    }
   }
  }
 ],
 "metadata": {
  "kernelspec": {
   "display_name": "Python 3",
   "language": "python",
   "name": "python3"
  },
  "language_info": {
   "codemirror_mode": {
    "name": "ipython",
    "version": 2
   },
   "file_extension": ".py",
   "mimetype": "text/x-python",
   "name": "python",
   "nbconvert_exporter": "python",
   "pygments_lexer": "ipython2",
   "version": "2.7.6"
  }
 },
 "nbformat": 4,
 "nbformat_minor": 0
}
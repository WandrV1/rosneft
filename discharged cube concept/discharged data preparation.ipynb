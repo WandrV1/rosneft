{
 "cells": [
  {
   "cell_type": "code",
   "execution_count": 21,
   "metadata": {
    "pycharm": {
     "name": "#%%\n"
    }
   },
   "outputs": [],
   "source": [
    "import numpy as np\n",
    "from PIL import Image\n",
    "\n",
    "import random\n",
    "import os\n",
    "import json"
   ]
  },
  {
   "cell_type": "code",
   "execution_count": 22,
   "metadata": {
    "pycharm": {
     "name": "#%%\n"
    }
   },
   "outputs": [],
   "source": [
    "WINDOW_SIZE = 512\n",
    "WINDOW_THRESHOLD = 1500\n",
    "WINDOWS_PER_SLICE = 40\n",
    "SLICE_EVERY = 50\n",
    "RAW_PATH = os.path.join('..', '2d unet full data', 'data', 'complete')\n",
    "SAVE_PATH = os.path.join('data')\n",
    "\n",
    "for stage in (['train', 'eval']):\n",
    "    fault_raw_path = os.path.join(RAW_PATH, stage, 'fault')\n",
    "    seis_raw_path = os.path.join(RAW_PATH, stage, 'seis')\n",
    "\n",
    "    fault_save_path = os.path.join(SAVE_PATH, stage, 'fault')\n",
    "    seis_save_path = os.path.join(SAVE_PATH, stage, 'seis')\n",
    "\n",
    "    with open(os.path.join(RAW_PATH, stage, 'metadata.json'), 'r') as file:\n",
    "        raw_metadata = json.load(file)\n",
    "\n",
    "    img_cnt = 0\n",
    "    metadata = []\n",
    "    for i in range(len(raw_metadata)):\n",
    "        if i % SLICE_EVERY == 0:\n",
    "            record = raw_metadata[i]\n",
    "            data = np.asarray(Image.open(os.path.join(seis_raw_path, record['data'])))\n",
    "            labels = np.asarray(Image.open(os.path.join(fault_raw_path, record['label'])))\n",
    "            timelines, xlines,  = np.shape(data)\n",
    "            for _ in range(WINDOWS_PER_SLICE):\n",
    "                while True:\n",
    "                    random_xline = random.randint(0, xlines - WINDOW_SIZE)\n",
    "                    random_timeline = random.randint(0, timelines - WINDOW_SIZE)\n",
    "                    random_labels_window = labels[random_timeline:random_timeline+WINDOW_SIZE, random_xline:random_xline+WINDOW_SIZE]\n",
    "                    if np.sum(random_labels_window) > WINDOW_THRESHOLD * 255:\n",
    "                        break\n",
    "                random_data_window = data[random_timeline:random_timeline+WINDOW_SIZE, random_xline:random_xline+WINDOW_SIZE]\n",
    "                metadata.append({\n",
    "                    'data': f'{img_cnt}.jpeg',\n",
    "                    'label': f'{img_cnt}.jpeg'\n",
    "                })\n",
    "                data_img = Image.fromarray(random_data_window)\n",
    "                label_img = Image.fromarray((random_labels_window))\n",
    "                data_img.save(os.path.join(seis_save_path, f'{img_cnt}.jpeg'))\n",
    "                label_img.save(os.path.join(fault_save_path, f'{img_cnt}.jpeg'))\n",
    "                img_cnt += 1\n",
    "    with open(os.path.join(SAVE_PATH, stage, 'metadata.json'), 'w') as file:\n",
    "        json.dump(metadata, file)"
   ]
  }
 ],
 "metadata": {
  "kernelspec": {
   "display_name": "Python 3 (ipykernel)",
   "language": "python",
   "name": "python3"
  },
  "language_info": {
   "codemirror_mode": {
    "name": "ipython",
    "version": 3
   },
   "file_extension": ".py",
   "mimetype": "text/x-python",
   "name": "python",
   "nbconvert_exporter": "python",
   "pygments_lexer": "ipython3",
   "version": "3.9.13"
  },
  "vscode": {
   "interpreter": {
    "hash": "457ec1892be62eebd2664916d5b7622086fb0245af7aceee304aa6faf1cdab48"
   }
  }
 },
 "nbformat": 4,
 "nbformat_minor": 4
}
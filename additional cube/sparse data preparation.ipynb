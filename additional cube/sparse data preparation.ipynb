{
 "cells": [
  {
   "cell_type": "code",
   "execution_count": 1,
   "metadata": {
    "collapsed": false,
    "jupyter": {
     "outputs_hidden": false
    },
    "pycharm": {
     "name": "#%%\n"
    }
   },
   "outputs": [],
   "source": [
    "import numpy as np\n",
    "from PIL import Image, ImageOps\n",
    "\n",
    "import random\n",
    "import os\n",
    "import json"
   ]
  },
  {
   "cell_type": "markdown",
   "metadata": {},
   "source": [
    "## 8 Слайсов"
   ]
  },
  {
   "cell_type": "code",
   "execution_count": 2,
   "metadata": {
    "collapsed": false,
    "jupyter": {
     "outputs_hidden": false
    },
    "pycharm": {
     "name": "#%%\n"
    }
   },
   "outputs": [
    {
     "name": "stdout",
     "output_type": "stream",
     "text": [
      "[ 10  89 169 249 329 408 488 568]\n"
     ]
    }
   ],
   "source": [
    "SLICES_CNT = 8\n",
    "WINDOW_THRESHOLD = 2000\n",
    "SLICE_THRESHOLD = 1.5 * WINDOW_THRESHOLD\n",
    "data = np.load(os.path.join('data', 'raw', 'numpy', 'inline_data.npz'))['arr_0']\n",
    "min_data_value = np.min(data)\n",
    "max_data_value = np.max(data)\n",
    "data = (data - min_data_value) / (max_data_value - min_data_value) * 255\n",
    "labels = np.load(os.path.join('data', 'raw', 'numpy', 'inline_faults_thick_7.npz'))['arr_0']\n",
    "slices_nums = (np.linspace(10, np.shape(labels)[0], SLICES_CNT, endpoint=False, dtype='int'))\n",
    "for slice_num in slices_nums:\n",
    "    if np.sum(labels[slice_num]) < SLICE_THRESHOLD:\n",
    "        print(f'Bad slice №{slice_num}')\n",
    "print(slices_nums)"
   ]
  },
  {
   "cell_type": "code",
   "execution_count": 3,
   "metadata": {
    "collapsed": false,
    "jupyter": {
     "outputs_hidden": false
    },
    "pycharm": {
     "name": "#%%\n"
    }
   },
   "outputs": [],
   "source": [
    "eval_slices_nums = [50, 200, 370, 520]\n",
    "for slice_num in slices_nums:\n",
    "    if np.sum(labels[slice_num]) < SLICE_THRESHOLD:\n",
    "        print(f'Bad slice №{slice_num}')"
   ]
  },
  {
   "cell_type": "code",
   "execution_count": 4,
   "metadata": {
    "collapsed": false,
    "jupyter": {
     "outputs_hidden": false
    },
    "pycharm": {
     "name": "#%%\n"
    }
   },
   "outputs": [],
   "source": [
    "WINDOW_SIZE = 512\n",
    "# WINDOW_THRESHOLD = 700 for thickness 3\n",
    "WINDOW_THRESHOLD = 2000\n",
    "WINDOWS_PER_SLICE = 25\n",
    "SLICES_CNT = 8\n",
    "SAVE_PATH = os.path.join('data', '512window')\n",
    "\n",
    "for stage in (['train', 'eval']):\n",
    "    if stage == 'train':\n",
    "        slices_nums = (np.linspace(10, np.shape(labels)[0], SLICES_CNT, endpoint=False, dtype='int'))\n",
    "    if stage == 'eval':\n",
    "        slices_nums = eval_slices_nums\n",
    "    fault_save_path = os.path.join(SAVE_PATH, stage, 'fault')\n",
    "    seis_save_path = os.path.join(SAVE_PATH, stage, 'seis')\n",
    "    img_cnt = 0\n",
    "    metadata = []\n",
    "    for slice_num in slices_nums:\n",
    "        data_slice = data[slice_num]\n",
    "        labels_slice = labels[slice_num]\n",
    "        timelines, xlines = np.shape(data_slice)\n",
    "        for _ in range(WINDOWS_PER_SLICE):\n",
    "            while True:\n",
    "                random_xline = random.randint(0, xlines - WINDOW_SIZE)\n",
    "                random_timeline = random.randint(0, timelines - WINDOW_SIZE)\n",
    "                random_labels_window = labels_slice[random_timeline:random_timeline+WINDOW_SIZE, random_xline:random_xline+WINDOW_SIZE]\n",
    "                if np.sum(random_labels_window) > WINDOW_THRESHOLD:\n",
    "                    break\n",
    "            random_data_window = data_slice[random_timeline:random_timeline+WINDOW_SIZE, random_xline:random_xline+WINDOW_SIZE]\n",
    "            metadata.append({\n",
    "                    'data': f'{img_cnt}.jpeg',\n",
    "                    'label': f'{img_cnt}.jpeg'\n",
    "                })\n",
    "            data_img = ImageOps.grayscale(Image.fromarray(random_data_window))\n",
    "            label_img = ImageOps.grayscale(Image.fromarray((random_labels_window * 255)))\n",
    "            data_img.save(os.path.join(seis_save_path, f'{img_cnt}.jpeg'))\n",
    "            label_img.save(os.path.join(fault_save_path, f'{img_cnt}.jpeg'))\n",
    "            img_cnt += 1\n",
    "    with open(os.path.join(SAVE_PATH, stage, 'metadata.json'), 'w') as file:\n",
    "        json.dump(metadata, file)"
   ]
  },
  {
   "cell_type": "markdown",
   "metadata": {},
   "source": [
    "## 12 Слайсов"
   ]
  },
  {
   "cell_type": "code",
   "execution_count": 2,
   "metadata": {},
   "outputs": [
    {
     "name": "stdout",
     "output_type": "stream",
     "text": [
      "[ 10  63 116 169 222 275 329 382 435 488 541 594]\n"
     ]
    }
   ],
   "source": [
    "SLICES_CNT = 12\n",
    "WINDOW_THRESHOLD = 2000\n",
    "SLICE_THRESHOLD = 1.5 * WINDOW_THRESHOLD\n",
    "data = np.load(os.path.join('data', 'raw', 'numpy', 'inline_data.npz'))['arr_0']\n",
    "min_data_value = np.min(data)\n",
    "max_data_value = np.max(data)\n",
    "data = (data - min_data_value) / (max_data_value - min_data_value) * 255\n",
    "labels = np.load(os.path.join('data', 'raw', 'numpy', 'inline_faults_thick_7.npz'))['arr_0']\n",
    "slices_nums = (np.linspace(10, np.shape(labels)[0], SLICES_CNT, endpoint=False, dtype='int'))\n",
    "for slice_num in slices_nums:\n",
    "    if np.sum(labels[slice_num]) < SLICE_THRESHOLD:\n",
    "        print(f'Bad slice №{slice_num}')\n",
    "print(slices_nums)"
   ]
  },
  {
   "cell_type": "code",
   "execution_count": 3,
   "metadata": {},
   "outputs": [],
   "source": [
    "eval_slices_nums = [50, 200, 370, 520]\n",
    "for slice_num in slices_nums:\n",
    "    if np.sum(labels[slice_num]) < SLICE_THRESHOLD:\n",
    "        print(f'Bad slice №{slice_num}')"
   ]
  },
  {
   "cell_type": "code",
   "execution_count": 4,
   "metadata": {},
   "outputs": [],
   "source": [
    "WINDOW_SIZE = 512\n",
    "# WINDOW_THRESHOLD = 700 for thickness 3\n",
    "WINDOW_THRESHOLD = 2000\n",
    "WINDOWS_PER_SLICE = 25\n",
    "SLICES_CNT = 12\n",
    "SAVE_PATH = os.path.join('data', '512window_12slice')\n",
    "\n",
    "for stage in (['train', 'eval']):\n",
    "    if stage == 'train':\n",
    "        slices_nums = (np.linspace(10, np.shape(labels)[0], SLICES_CNT, endpoint=False, dtype='int'))\n",
    "    if stage == 'eval':\n",
    "        slices_nums = eval_slices_nums\n",
    "    fault_save_path = os.path.join(SAVE_PATH, stage, 'fault')\n",
    "    seis_save_path = os.path.join(SAVE_PATH, stage, 'seis')\n",
    "    img_cnt = 0\n",
    "    metadata = []\n",
    "    for slice_num in slices_nums:\n",
    "        data_slice = data[slice_num]\n",
    "        labels_slice = labels[slice_num]\n",
    "        timelines, xlines = np.shape(data_slice)\n",
    "        for _ in range(WINDOWS_PER_SLICE):\n",
    "            while True:\n",
    "                random_xline = random.randint(0, xlines - WINDOW_SIZE)\n",
    "                random_timeline = random.randint(0, timelines - WINDOW_SIZE)\n",
    "                random_labels_window = labels_slice[random_timeline:random_timeline+WINDOW_SIZE, random_xline:random_xline+WINDOW_SIZE]\n",
    "                if np.sum(random_labels_window) > WINDOW_THRESHOLD:\n",
    "                    break\n",
    "            random_data_window = data_slice[random_timeline:random_timeline+WINDOW_SIZE, random_xline:random_xline+WINDOW_SIZE]\n",
    "            metadata.append({\n",
    "                    'data': f'{img_cnt}.png',\n",
    "                    'label': f'{img_cnt}.png'\n",
    "                })\n",
    "            data_img = ImageOps.grayscale(Image.fromarray(random_data_window))\n",
    "            label_img = ImageOps.grayscale(Image.fromarray((random_labels_window * 255)))\n",
    "            data_img.save(os.path.join(seis_save_path, f'{img_cnt}.png'))\n",
    "            label_img.save(os.path.join(fault_save_path, f'{img_cnt}.png'))\n",
    "            img_cnt += 1\n",
    "    with open(os.path.join(SAVE_PATH, stage, 'metadata.json'), 'w') as file:\n",
    "        json.dump(metadata, file)"
   ]
  },
  {
   "cell_type": "markdown",
   "metadata": {},
   "source": [
    "## 4 Слайса"
   ]
  },
  {
   "cell_type": "code",
   "execution_count": 5,
   "metadata": {},
   "outputs": [
    {
     "name": "stdout",
     "output_type": "stream",
     "text": [
      "[ 10 169 329 488]\n"
     ]
    }
   ],
   "source": [
    "SLICES_CNT = 4\n",
    "WINDOW_THRESHOLD = 2000\n",
    "SLICE_THRESHOLD = 1.5 * WINDOW_THRESHOLD\n",
    "data = np.load(os.path.join('data', 'raw', 'numpy', 'inline_data.npz'))['arr_0']\n",
    "min_data_value = np.min(data)\n",
    "max_data_value = np.max(data)\n",
    "data = (data - min_data_value) / (max_data_value - min_data_value) * 255\n",
    "labels = np.load(os.path.join('data', 'raw', 'numpy', 'inline_faults_thick_7.npz'))['arr_0']\n",
    "slices_nums = (np.linspace(10, np.shape(labels)[0], SLICES_CNT, endpoint=False, dtype='int'))\n",
    "for slice_num in slices_nums:\n",
    "    if np.sum(labels[slice_num]) < SLICE_THRESHOLD:\n",
    "        print(f'Bad slice №{slice_num}')\n",
    "print(slices_nums)"
   ]
  },
  {
   "cell_type": "code",
   "execution_count": 6,
   "metadata": {},
   "outputs": [],
   "source": [
    "eval_slices_nums = [50, 200, 370, 520]\n",
    "for slice_num in slices_nums:\n",
    "    if np.sum(labels[slice_num]) < SLICE_THRESHOLD:\n",
    "        print(f'Bad slice №{slice_num}')"
   ]
  },
  {
   "cell_type": "code",
   "execution_count": 7,
   "metadata": {},
   "outputs": [],
   "source": [
    "WINDOW_SIZE = 512\n",
    "# WINDOW_THRESHOLD = 700 for thickness 3\n",
    "WINDOW_THRESHOLD = 2000\n",
    "WINDOWS_PER_SLICE = 25\n",
    "SLICES_CNT = 4\n",
    "SAVE_PATH = os.path.join('data', '512window_4slice')\n",
    "\n",
    "for stage in (['train', 'eval']):\n",
    "    if stage == 'train':\n",
    "        slices_nums = (np.linspace(10, np.shape(labels)[0], SLICES_CNT, endpoint=False, dtype='int'))\n",
    "    if stage == 'eval':\n",
    "        slices_nums = eval_slices_nums\n",
    "    fault_save_path = os.path.join(SAVE_PATH, stage, 'fault')\n",
    "    seis_save_path = os.path.join(SAVE_PATH, stage, 'seis')\n",
    "    img_cnt = 0\n",
    "    metadata = []\n",
    "    for slice_num in slices_nums:\n",
    "        data_slice = data[slice_num]\n",
    "        labels_slice = labels[slice_num]\n",
    "        timelines, xlines = np.shape(data_slice)\n",
    "        for _ in range(WINDOWS_PER_SLICE):\n",
    "            while True:\n",
    "                random_xline = random.randint(0, xlines - WINDOW_SIZE)\n",
    "                random_timeline = random.randint(0, timelines - WINDOW_SIZE)\n",
    "                random_labels_window = labels_slice[random_timeline:random_timeline+WINDOW_SIZE, random_xline:random_xline+WINDOW_SIZE]\n",
    "                if np.sum(random_labels_window) > WINDOW_THRESHOLD:\n",
    "                    break\n",
    "            random_data_window = data_slice[random_timeline:random_timeline+WINDOW_SIZE, random_xline:random_xline+WINDOW_SIZE]\n",
    "            metadata.append({\n",
    "                    'data': f'{img_cnt}.png',\n",
    "                    'label': f'{img_cnt}.png'\n",
    "                })\n",
    "            data_img = ImageOps.grayscale(Image.fromarray(random_data_window))\n",
    "            label_img = ImageOps.grayscale(Image.fromarray((random_labels_window * 255)))\n",
    "            data_img.save(os.path.join(seis_save_path, f'{img_cnt}.png'))\n",
    "            label_img.save(os.path.join(fault_save_path, f'{img_cnt}.png'))\n",
    "            img_cnt += 1\n",
    "    with open(os.path.join(SAVE_PATH, stage, 'metadata.json'), 'w') as file:\n",
    "        json.dump(metadata, file)"
   ]
  }
 ],
 "metadata": {
  "kernelspec": {
   "display_name": "Python 3 (ipykernel)",
   "language": "python",
   "name": "python3"
  },
  "language_info": {
   "codemirror_mode": {
    "name": "ipython",
    "version": 3
   },
   "file_extension": ".py",
   "mimetype": "text/x-python",
   "name": "python",
   "nbconvert_exporter": "python",
   "pygments_lexer": "ipython3",
   "version": "3.9.13"
  },
  "vscode": {
   "interpreter": {
    "hash": "03b9a3a866c26bddc2683cf500124c6a60342b7ce2de1a0d65b2d9f874cd44cf"
   }
  }
 },
 "nbformat": 4,
 "nbformat_minor": 4
}

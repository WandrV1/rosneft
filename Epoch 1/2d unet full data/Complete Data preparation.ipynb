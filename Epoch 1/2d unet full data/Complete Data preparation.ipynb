{
 "cells": [
  {
   "cell_type": "code",
   "execution_count": 1,
   "metadata": {
    "collapsed": true,
    "pycharm": {
     "name": "#%%\n"
    }
   },
   "outputs": [],
   "source": [
    "import numpy as np\n",
    "import matplotlib.pyplot as plt\n",
    "import matplotlib\n",
    "from PIL import Image, ImageOps\n",
    "\n",
    "import random\n",
    "import os\n",
    "import json\n",
    "import math\n",
    "\n",
    "matplotlib.rcParams['figure.figsize'] = (11.75, 8.5)"
   ]
  },
  {
   "cell_type": "code",
   "execution_count": 2,
   "metadata": {
    "collapsed": false,
    "pycharm": {
     "name": "#%%\n"
    }
   },
   "outputs": [],
   "source": [
    "def pad_data(data, divisor=16):\n",
    "    shape_y, shape_x = data.shape\n",
    "\n",
    "    target_y_size = math.ceil(shape_y / divisor) * divisor\n",
    "    target_x_size = math.ceil(shape_x / divisor) * divisor\n",
    "\n",
    "    padding_top = round((target_y_size - shape_y) / 2)\n",
    "    padding_bottom = target_y_size - shape_y - padding_top\n",
    "    padding_left = round((target_x_size - shape_x) / 2)\n",
    "    padding_right = target_x_size - shape_x - padding_left\n",
    "\n",
    "    return np.pad(data, pad_width=((padding_top, padding_bottom), (padding_left, padding_right)), mode='edge'), [padding_top, padding_bottom, padding_left, padding_right]"
   ]
  },
  {
   "cell_type": "code",
   "execution_count": 3,
   "metadata": {
    "collapsed": false,
    "pycharm": {
     "name": "#%%\n"
    }
   },
   "outputs": [
    {
     "name": "stdout",
     "output_type": "stream",
     "text": [
      "['seistrain1.npz', 'faulttrain1.npz']\n",
      "['seistrain2.npz', 'faulttrain2.npz']\n",
      "['seistrain3.npz', 'faulttrain3.npz']\n",
      "['seistrain4.npz', 'faulttrain4.npz']\n",
      "['seistrain5.npz', 'faulttrain5.npz']\n",
      "['seistrain6.npz', 'faulttrain6.npz']\n",
      "['seistrain7.npz', 'faulttrain7.npz']\n",
      "['seistrain8.npz', 'faulttrain8.npz']\n",
      "['seistrain9.npz', 'faulttrain9.npz']\n",
      "['seisval1.npz', 'faultval1.npz']\n",
      "['seistest1.npz', 'faulttest1.npz']\n"
     ]
    }
   ],
   "source": [
    "DIVISOR = 32\n",
    "RAW_PATH = os.path.join('data', 'raw')\n",
    "SAVE_PATH = os.path.join('data', 'complete')\n",
    "\n",
    "files_for_stages = {\n",
    "    'train': [['seistrain1.npz', 'faulttrain1.npz'],\n",
    "              ['seistrain2.npz', 'faulttrain2.npz'],\n",
    "              ['seistrain3.npz', 'faulttrain3.npz'],\n",
    "              ['seistrain4.npz', 'faulttrain4.npz'],\n",
    "              ['seistrain5.npz', 'faulttrain5.npz'],\n",
    "              ['seistrain6.npz', 'faulttrain6.npz'],\n",
    "              ['seistrain7.npz', 'faulttrain7.npz'],\n",
    "              ['seistrain8.npz', 'faulttrain8.npz'],\n",
    "              ['seistrain9.npz', 'faulttrain9.npz']],\n",
    "    'eval': [['seisval1.npz', 'faultval1.npz']],\n",
    "    'val': [['seistest1.npz', 'faulttest1.npz']]\n",
    "}\n",
    "\n",
    "for stage in ('train', 'eval', 'val'):\n",
    "    fault_path = os.path.join(SAVE_PATH, stage, 'fault')\n",
    "    seis_path = os.path.join(SAVE_PATH, stage, 'seis')\n",
    "    img_cnt = 0\n",
    "    metadata = []\n",
    "    for data_names in files_for_stages[stage]:\n",
    "        print(data_names)\n",
    "        data = np.load(os.path.join(RAW_PATH, data_names[0]))['arr_0'].T\n",
    "        min_data_value = np.min(data)\n",
    "        max_data_value = np.max(data)\n",
    "        data = (data - min_data_value) / (max_data_value - min_data_value) * 255\n",
    "\n",
    "        labels = np.load(os.path.join(RAW_PATH, data_names[1]))['arr_0'].T\n",
    "        assert data.shape == labels.shape\n",
    "\n",
    "        for horizon_num in range(data.shape[2]):\n",
    "            data_slice = data[:,:,horizon_num]\n",
    "            labels_slice = labels[:,:,horizon_num]\n",
    "\n",
    "            timelines, xlines,  = np.shape(data_slice)\n",
    "            data_slice, data_padding = pad_data(data_slice, DIVISOR)\n",
    "            labels_slice, labels_padding = pad_data(labels_slice, DIVISOR)\n",
    "            labels_slice = labels_slice * 255\n",
    "\n",
    "            data_img = ImageOps.grayscale(Image.fromarray(data_slice))\n",
    "            label_img = ImageOps.grayscale(Image.fromarray(labels_slice))\n",
    "            metadata.append({\n",
    "                'data': f'{img_cnt}.jpeg',\n",
    "                'label': f'{img_cnt}.jpeg',\n",
    "                'padding': data_padding\n",
    "            })\n",
    "            data_img.save(os.path.join(seis_path, f'{img_cnt}.jpeg'))\n",
    "            label_img.save(os.path.join(fault_path, f'{img_cnt}.jpeg'))\n",
    "            img_cnt += 1\n",
    "    with open(os.path.join(SAVE_PATH, stage, 'metadata.json'), 'w') as file:\n",
    "        json.dump(metadata, file)"
   ]
  }
 ],
 "metadata": {
  "kernelspec": {
   "display_name": "Python 3.9.13 ('venv': venv)",
   "language": "python",
   "name": "python3"
  },
  "language_info": {
   "codemirror_mode": {
    "name": "ipython",
    "version": 3
   },
   "file_extension": ".py",
   "mimetype": "text/x-python",
   "name": "python",
   "nbconvert_exporter": "python",
   "pygments_lexer": "ipython3",
   "version": "3.9.13"
  },
  "vscode": {
   "interpreter": {
    "hash": "457ec1892be62eebd2664916d5b7622086fb0245af7aceee304aa6faf1cdab48"
   }
  }
 },
 "nbformat": 4,
 "nbformat_minor": 0
}
